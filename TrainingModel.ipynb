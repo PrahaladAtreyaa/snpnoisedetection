{
 "cells": [
  {
   "cell_type": "markdown",
   "metadata": {},
   "source": [
    "# Importing Librarires"
   ]
  },
  {
   "cell_type": "code",
   "execution_count": 12,
   "metadata": {},
   "outputs": [
    {
     "name": "stderr",
     "output_type": "stream",
     "text": [
      "C:\\Users\\mirza\\Anaconda3\\lib\\site-packages\\sklearn\\externals\\joblib\\__init__.py:15: DeprecationWarning: sklearn.externals.joblib is deprecated in 0.21 and will be removed in 0.23. Please import this functionality directly from joblib, which can be installed with: pip install joblib. If this warning is raised when loading pickled models, you may need to re-serialize those models with scikit-learn 0.21+.\n",
      "  warnings.warn(msg, category=DeprecationWarning)\n"
     ]
    }
   ],
   "source": [
    "import pandas as pd\n",
    "import numpy as np\n",
    "from GenUtils import preprocessTrain\n",
    "from sklearn.model_selection import train_test_split\n",
    "from sklearn.model_selection import GridSearchCV\n",
    "from sklearn.ensemble import RandomForestClassifier\n",
    "from sklearn.metrics import roc_auc_score\n",
    "from sklearn.metrics import fbeta_score, make_scorer\n",
    "from sklearn.metrics import confusion_matrix,auc\n",
    "from sklearn.externals import joblib \n",
    "from sklearn import metrics\n",
    "import matplotlib.pyplot as plt\n",
    "from sklearn.metrics import precision_recall_curve\n",
    "import matplotlib.pyplot as plt\n",
    "from inspect import signature\n"
   ]
  },
  {
   "cell_type": "markdown",
   "metadata": {},
   "source": [
    "# Loading training data and processing"
   ]
  },
  {
   "cell_type": "code",
   "execution_count": 2,
   "metadata": {},
   "outputs": [],
   "source": [
    "dfFull=pd.read_csv(\"C:\\\\Users\\\\mirza\\\\Downloads\\\\Strand\\\\Starnd_1\\\\TrainData\\\\dfFull.csv\")"
   ]
  },
  {
   "cell_type": "markdown",
   "metadata": {},
   "source": [
    "preprocess to keep only relevent features for the model"
   ]
  },
  {
   "cell_type": "code",
   "execution_count": 3,
   "metadata": {},
   "outputs": [
    {
     "name": "stderr",
     "output_type": "stream",
     "text": [
      "C:\\Users\\mirza\\Downloads\\Strand\\StrandML\\GenUtils.py:491: SettingWithCopyWarning: \n",
      "A value is trying to be set on a copy of a slice from a DataFrame\n",
      "\n",
      "See the caveats in the documentation: http://pandas.pydata.org/pandas-docs/stable/indexing.html#indexing-view-versus-copy\n",
      "  df['LABEL'][df.LABEL==\"M\"]=1\n",
      "C:\\Users\\mirza\\Downloads\\Strand\\StrandML\\GenUtils.py:492: SettingWithCopyWarning: \n",
      "A value is trying to be set on a copy of a slice from a DataFrame\n",
      "\n",
      "See the caveats in the documentation: http://pandas.pydata.org/pandas-docs/stable/indexing.html#indexing-view-versus-copy\n",
      "  df['LABEL'][df.LABEL==\"SVR\"]=1\n",
      "C:\\Users\\mirza\\Downloads\\Strand\\StrandML\\GenUtils.py:493: SettingWithCopyWarning: \n",
      "A value is trying to be set on a copy of a slice from a DataFrame\n",
      "\n",
      "See the caveats in the documentation: http://pandas.pydata.org/pandas-docs/stable/indexing.html#indexing-view-versus-copy\n",
      "  df['LABEL'][df.LABEL==\"NSVR\"]=0\n"
     ]
    }
   ],
   "source": [
    "dfFull=preprocessTrain(dfFull)"
   ]
  },
  {
   "cell_type": "markdown",
   "metadata": {},
   "source": [
    "# Scoring Metrics"
   ]
  },
  {
   "cell_type": "markdown",
   "metadata": {},
   "source": [
    "Scoring metrics for GridSearch"
   ]
  },
  {
   "cell_type": "code",
   "execution_count": 4,
   "metadata": {},
   "outputs": [],
   "source": [
    "\n",
    "def my_fpr(y_true, y_pred):\n",
    "    \n",
    "    tn, fp, fn, tp = confusion_matrix(y_true, y_pred).ravel()\n",
    "   \n",
    "    return fp/(fp+tn)\n",
    "def my_tpr(y_true, y_pred):\n",
    "    \n",
    "    tn, fp, fn, tp = confusion_matrix(y_true, y_pred).ravel()\n",
    "   \n",
    "    return tp/(fn+tp)\n",
    "def my_tnr(y_true, y_pred):\n",
    "    \n",
    "    tn, fp, fn, tp = confusion_matrix(y_true, y_pred).ravel()\n",
    "   \n",
    "    return tn/(fp+tn)\n",
    "\n",
    "from sklearn.metrics import roc_curve, auc\n",
    "\n",
    "# define scoring function \n",
    "def custom_auc(ground_truth, predictions):\n",
    "     # I need only one column of predictions[\"0\" and \"1\"]. You can get an error here\n",
    "     # while trying to return both columns at once\n",
    "    fpr, tpr, _ = roc_curve(ground_truth, predictions, pos_label=1)    \n",
    "    return auc(fpr, tpr)\n",
    "\n",
    "# to be standart sklearn's scorer        \n",
    "my_auc = make_scorer(custom_auc, greater_is_better=True, needs_proba=True)    \n",
    "\n",
    "fpr_scorer = make_scorer(my_fpr, greater_is_better=False)\n",
    "tpr_scorer = make_scorer(my_tpr, greater_is_better=True)\n",
    "tnr_scorer = make_scorer(my_tnr, greater_is_better=True)\n",
    "\n",
    "scoring = {'accuracy': 'accuracy', 'fpr': fpr_scorer,'tpr':tpr_scorer,'tnr':tnr_scorer,'auc':my_auc}\n"
   ]
  },
  {
   "cell_type": "markdown",
   "metadata": {},
   "source": [
    "To calculate the metrics on validation and training set"
   ]
  },
  {
   "cell_type": "code",
   "execution_count": 5,
   "metadata": {},
   "outputs": [],
   "source": [
    "def getValScore(estimator,X_val,y_val,X_train,y_train):\n",
    "    \n",
    "    print(\"------------------------------------\")\n",
    "    print(\"Training\")\n",
    "    tn, fp, fn, tp = confusion_matrix(y_train, estimator.predict(X_train)).ravel()\n",
    "    print(\"fpr=\"+str(fp/(tn+fp)))\n",
    "    print(\"tpr=\"+str(tp/(fn+tp)))\n",
    "    print(\"acc=\"+str(accuracy_score(y_train,estimator.predict(X_train))))\n",
    "    fpr, tpr, _ = roc_curve(y_train, estimator.predict_proba(X_train)[:, 1], pos_label=1)\n",
    "    print(\"auc=\"+str(auc(fpr, tpr)))\n",
    "    \n",
    "    print(\"------------------------------------\")\n",
    "    print(\"Validation:\")\n",
    "    tn, fp, fn, tp = confusion_matrix(y_val, estimator.predict(X_val)).ravel()\n",
    "    print(\"fpr=\"+str(fp/(tn+fp)))\n",
    "    print(\"tpr=\"+str(tp/(fn+tp)))\n",
    "    print(\"acc=\"+str(accuracy_score(y_val,estimator.predict(X_val))))\n",
    "    fpr, tpr, _ = roc_curve(y_val, estimator.predict_proba(X_val)[:, 1], pos_label=1)\n",
    "    print(\"auc=\"+str(auc(fpr, tpr)))\n",
    "    "
   ]
  },
  {
   "cell_type": "markdown",
   "metadata": {},
   "source": [
    "# RANDOM FOREST"
   ]
  },
  {
   "cell_type": "markdown",
   "metadata": {},
   "source": [
    "splitting into training and validation sets"
   ]
  },
  {
   "cell_type": "code",
   "execution_count": 6,
   "metadata": {},
   "outputs": [],
   "source": [
    "X=dfFull.drop(['QNAME','REGION','LABEL','B_POS'],axis=1)\n",
    "y=dfFull.LABEL\n",
    "y=y.astype('int')\n",
    "X_train, X_val, y_train, y_val = train_test_split(X, y, test_size=0.2,random_state=0)"
   ]
  },
  {
   "cell_type": "markdown",
   "metadata": {},
   "source": [
    "Running GridSearch with Crossvalidation usign kfold=10 to find the best set of parameters"
   ]
  },
  {
   "cell_type": "code",
   "execution_count": 8,
   "metadata": {},
   "outputs": [],
   "source": [
    "param_grid = { \n",
    "    'n_estimators': [100,200],\n",
    "    'max_features': ['auto', 'sqrt', 'log2'],\n",
    "    'max_depth' : [10,20,100,200],\n",
    "    'class_weight':[{0:1,1:1},{0:1,1:2},{0:1,1:3},{0:1,1:4}]\n",
    "}"
   ]
  },
  {
   "cell_type": "code",
   "execution_count": null,
   "metadata": {},
   "outputs": [
    {
     "name": "stdout",
     "output_type": "stream",
     "text": [
      "Fitting 10 folds for each of 8 candidates, totalling 80 fits\n"
     ]
    },
    {
     "name": "stderr",
     "output_type": "stream",
     "text": [
      "[Parallel(n_jobs=-1)]: Using backend LokyBackend with 8 concurrent workers.\n"
     ]
    }
   ],
   "source": [
    "gridrn = GridSearchCV(RandomForestClassifier(class_weight='balanced',random_state=0), param_grid=param_grid,scoring=scoring, cv=10,refit='fpr',verbose=10,n_jobs=-1)\n",
    "gridrn.fit(X_train,y_train)"
   ]
  },
  {
   "cell_type": "markdown",
   "metadata": {},
   "source": [
    "Results of gridsearchCV"
   ]
  },
  {
   "cell_type": "code",
   "execution_count": null,
   "metadata": {},
   "outputs": [],
   "source": [
    "pd.DataFrame(gridrn.cv_results_)[['param_n_estimators','param_max_depth','mean_test_accuracy','std_test_accuracy','mean_test_fpr','std_test_fpr','mean_test_tpr','std_test_tpr','mean_test_tnr','std_test_tnr','mean_test_auc','std_test_auc']]"
   ]
  },
  {
   "cell_type": "markdown",
   "metadata": {},
   "source": [
    "Trainng the best Random Forest Model"
   ]
  },
  {
   "cell_type": "code",
   "execution_count": 9,
   "metadata": {},
   "outputs": [
    {
     "name": "stdout",
     "output_type": "stream",
     "text": [
      "------------------------------------\n",
      "Training\n",
      "fpr=0.06373149938063377\n",
      "tpr=0.8929063926957028\n",
      "acc=0.927629690596033\n",
      "auc=0.9741137038761175\n",
      "------------------------------------\n",
      "Validation:\n",
      "fpr=0.06686136851873946\n",
      "tpr=0.8780301551393498\n",
      "acc=0.9221574082178208\n",
      "auc=0.9672886187777474\n"
     ]
    }
   ],
   "source": [
    "from sklearn.metrics import accuracy_score\n",
    "rnd=RandomForestClassifier(n_estimators=100,max_depth=20,class_weight='balanced',random_state=0).fit(X_train,y_train)\n",
    "getValScore(rnd,X_val,y_val,X_train,y_train)\n"
   ]
  },
  {
   "cell_type": "markdown",
   "metadata": {},
   "source": [
    "Pickling The Random Forest Model(Saving the Model)"
   ]
  },
  {
   "cell_type": "code",
   "execution_count": 13,
   "metadata": {},
   "outputs": [
    {
     "data": {
      "text/plain": [
       "['RF.pkl']"
      ]
     },
     "execution_count": 13,
     "metadata": {},
     "output_type": "execute_result"
    }
   ],
   "source": [
    "\n",
    "#Save the model as a pickle in a file \n",
    "joblib.dump(rnd, 'RF.pkl') "
   ]
  },
  {
   "cell_type": "markdown",
   "metadata": {},
   "source": [
    "# Model Analytics"
   ]
  },
  {
   "cell_type": "markdown",
   "metadata": {},
   "source": [
    "feature Importance"
   ]
  },
  {
   "cell_type": "code",
   "execution_count": 14,
   "metadata": {},
   "outputs": [
    {
     "data": {
      "image/png": "[encoded data removed]",
      "text/plain": [
       "<Figure size 360x360 with 1 Axes>"
      ]
     },
     "metadata": {
      "needs_background": "light"
     },
     "output_type": "display_data"
    }
   ],
   "source": [
    "import matplotlib.pyplot as plt\n",
    "from pylab import rcParams\n",
    "rcParams['figure.figsize'] = 5, 5\n",
    "features = X.columns\n",
    "importances = rnd.feature_importances_\n",
    "indices = np.argsort(importances)\n",
    "\n",
    "plt.title('Feature Importances')\n",
    "plt.barh(range(len(indices)), importances[indices], color='b', align='center')\n",
    "plt.yticks(range(len(indices)), [features[i] for i in indices])\n",
    "plt.xlabel('Relative Importance')\n",
    "plt.show()"
   ]
  },
  {
   "cell_type": "markdown",
   "metadata": {},
   "source": [
    "AUC_ROC_CURVE"
   ]
  },
  {
   "cell_type": "code",
   "execution_count": 17,
   "metadata": {},
   "outputs": [
    {
     "data": {
      "image/png": "[encoded data removed]",
      "text/plain": [
       "<Figure size 360x360 with 1 Axes>"
      ]
     },
     "metadata": {
      "needs_background": "light"
     },
     "output_type": "display_data"
    }
   ],
   "source": [
    "fpr, tpr, thresholds = roc_curve(y_val,rnd.predict_proba(X_val)[:, 1], pos_label=1)\n",
    "auc = roc_auc_score(y_val,rnd.predict_proba(X_val)[:, 1])\n",
    "plt.plot(fpr,tpr,label=\"auc=\"+str(auc))\n",
    "plt.legend(loc=4)\n",
    "plt.show()"
   ]
  },
  {
   "cell_type": "markdown",
   "metadata": {},
   "source": [
    "PRECISION_RECALL CURVE"
   ]
  },
  {
   "cell_type": "code",
   "execution_count": 18,
   "metadata": {},
   "outputs": [
    {
     "name": "stdout",
     "output_type": "stream",
     "text": [
      "Average precision-recall score: 0.90\n"
     ]
    },
    {
     "data": {
      "text/plain": [
       "Text(0.5, 1.0, '2-class Precision-Recall curve: Average Precsion=0.90')"
      ]
     },
     "execution_count": 18,
     "metadata": {},
     "output_type": "execute_result"
    },
    {
     "data": {
      "image/png": "[encoded data removed]",
      "text/plain": [
       "<Figure size 360x360 with 1 Axes>"
      ]
     },
     "metadata": {
      "needs_background": "light"
     },
     "output_type": "display_data"
    }
   ],
   "source": [
    "\n",
    "plt.figure(0).clf()\n",
    "from sklearn.metrics import average_precision_score\n",
    "average_precision = average_precision_score(y_val,rnd.predict_proba(X_val)[:,1])\n",
    "\n",
    "print('Average precision-recall score: {0:0.2f}'.format(\n",
    "      average_precision))\n",
    "\n",
    "\n",
    "precision, recall, _ = precision_recall_curve(y_val,rnd.predict_proba(X_val)[:,1])\n",
    "\n",
    "# In matplotlib < 1.5, plt.fill_between does not have a 'step' argument\n",
    "step_kwargs = ({'step': 'post'}\n",
    "               if 'step' in signature(plt.fill_between).parameters\n",
    "               else {})\n",
    "plt.step(recall, precision, color='b', alpha=0.2,\n",
    "         where='post')\n",
    "plt.fill_between(recall, precision, alpha=0.2, color='b', **step_kwargs)\n",
    "\n",
    "plt.xlabel('Recall')\n",
    "plt.ylabel('Precision')\n",
    "plt.ylim([0.0, 1.05])\n",
    "plt.xlim([0.0, 1.0])\n",
    "plt.title('2-class Precision-Recall curve: Average Precsion={0:0.2f}'.format(\n",
    "          average_precision))"
   ]
  },
  {
   "cell_type": "code",
   "execution_count": null,
   "metadata": {},
   "outputs": [],
   "source": []
  }
 ],
 "metadata": {
  "kernelspec": {
   "display_name": "Python 3",
   "language": "python",
   "name": "python3"
  },
  "language_info": {
   "codemirror_mode": {
    "name": "ipython",
    "version": 3
   },
   "file_extension": ".py",
   "mimetype": "text/x-python",
   "name": "python",
   "nbconvert_exporter": "python",
   "pygments_lexer": "ipython3",
   "version": "3.7.3"
  }
 },
 "nbformat": 4,
 "nbformat_minor": 2
}
